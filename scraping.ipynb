{
  "nbformat": 4,
  "nbformat_minor": 0,
  "metadata": {
    "colab": {
      "provenance": []
    },
    "kernelspec": {
      "name": "python3",
      "display_name": "Python 3"
    },
    "language_info": {
      "name": "python"
    }
  },
  "cells": [
    {
      "cell_type": "markdown",
      "source": [
        "# **<font color='red'>Importing librairies : </font>**"
      ],
      "metadata": {
        "id": "M7xN9Bodc_QK"
      }
    },
    {
      "cell_type": "code",
      "execution_count": null,
      "metadata": {
        "id": "jtVn5m8ec-AW"
      },
      "outputs": [],
      "source": [
        "import requests\n",
        "from bs4 import BeautifulSoup\n",
        "import csv\n",
        "from google.colab import files"
      ]
    },
    {
      "cell_type": "markdown",
      "source": [
        "# **<font color='red'>Scraping : </font>**"
      ],
      "metadata": {
        "id": "G8PcXEZQdC9U"
      }
    },
    {
      "cell_type": "code",
      "source": [
        "# The URL of the text to scrape:\n",
        "url = 'https://www.tu.no/artikler/as-norge-har-i-dag-for-fa-effektive-verktoy-for-a-drive-fram-innovasjon/539732'\n",
        "\n",
        "# Sending a GET request to retrieve the content of the page :\n",
        "response = requests.get(url)\n",
        "\n",
        "# Check if the request was successful (status 200)\n",
        "if response.status_code == 200:\n",
        "    soup = BeautifulSoup(response.content, 'html.parser')\n",
        "\n",
        "    # Find all paragraphs of the article\n",
        "    paragraphs = soup.find_all('p')\n",
        "\n",
        "    # Extract the text from each paragraph\n",
        "    article_text = '\\n'.join(paragraph.text for paragraph in paragraphs)\n",
        "\n",
        "    print(article_text)\n",
        "else:\n",
        "    print(\"Error retrieving the page. Status code:\", response.status_code)"
      ],
      "metadata": {
        "colab": {
          "base_uri": "https://localhost:8080/"
        },
        "id": "NHXwNxszdGH8",
        "outputId": "33093cc3-2ecc-451a-8b4e-5f336993ae0f"
      },
      "execution_count": null,
      "outputs": [
        {
          "output_type": "stream",
          "name": "stdout",
          "text": [
            "Verden står overfor en paradoksal situasjon der den akutte energikrisen ser ut til å lette, men de underliggende spenningene i energimarkedene, geopolitikk og økonomi signaliserer fortsatt risiko for stor volatilitet. Med olje/gasspriser som har falt fra toppene i 2022, er markedene likevel spente.\n",
            "Mens eksperter under ONS i Stavanger i 2022 spådde en oljepriskollaps i 2024, tror flere av dagens analytikere på priser opp mot 130 dollar fatet gjennom 2024. En av de minst analytiske, men likevel mest presise spådommene kom daværende Equinor-sjef Eldar Sætre med på Energy Connected-konferansen på Fornebu i 2016, hvor han uttalte: «The oil price will most likely continue to go up and down. But, not necessarily in that order.»\n",
            "Alvorlige og dype konflikter i Ukraina og Midtøsten, vedvarende inflasjon og stigende lånekostnader kaster lange skygger over den globale økonomien​​.\n",
            "I Norge og globalt har offshore vind-industrien møtt sin egen storm. Med over 30 milliarder USD i investeringer satt på vent, er minst ti prosjekter i USA og Europa forsinket​​.\n",
            "Ørsteds aksjekursfall på 55 prosent det siste året reflekterer disse utfordringene, med nedskrivninger på prosjekter på grunn av inflasjon, renteøkninger og forsyningskjedeproblemer​​​​. Seneste nytt er at Ørsted trekker seg fra konkurransen om å bygge ut havvind på norsk sokkel.\n",
            "I lys av disse utfordringene kan en midlertidig pause i energitransformasjonen paradoksalt nok gi langsiktige fordeler. Den gir rom for en «nullstilling» av forventningene til kostnadene ved offshore vind og kan også føre til strengere kapitalallokeringsbeslutninger som sikrer at bare de mest verdifulle prosjektene går videre​​. Dette kan styrke bransjens eksistensgrunnlag og føre til en mer bærekraftig vekst.\n",
            "Geopolitisk er ønsket om energisikkerhet primært drevet av et ønske om å redusere avhengigheten av ustabil, importert energi. Dette har blitt ytterligere tydeliggjort av investeringer i fornybar energi, som har steget med 40 prosent siden 2020, tross utfordringene for vindenergi.\n",
            "Solenergi og overgang til elektriske kjøretøy leder an i det nye energilandskapet og satser på å forbedre tilgangen til elektrisitet og rent brensel​​.\n",
            "Så til tross for de nylige hindringene er den langsiktige trenden mot fornybar og bærekraftig energi urokkelig. Den nåværende «pausen» kan faktisk ruste oss bedre for fremtiden ved å styrke økonomiske og tekniske strategier, sikre at overgangen er inkluderende og bærekraftig og prioritere prosjekter som gir reell verdi.\n",
            "Om havvindsatsingen i Norge fortsatt kan skape 52.000 nye jobber innen 2050, som en rapport fra 2022 hevder, er sannsynligvis svært lite reelt med det nye landskapet, både politisk og kostnadsmessig, som vi ser nasjonalt og internasjonalt.\n",
            "I tillegg representerer den amerikanske Inflation Reduction Act (IRA) en potensiell trussel mot norske arbeidsplasser og nasjonal verdiskaping, men samtidig en betydelig mulighet for norske selskap til å skalere og kommersialisere sin teknologi med base i USA. Senest forrige uke fikk vi et eksempel på dette, da batteriselskapet Freyr kommuniserte nedskalering og tilnærmet full stopp i sin satsing i Norge, mens alt fokus flyttes til USA på grunn av bedre støtteordninger.\n",
            "Med betydelige subsidier kan IRA tiltrekke seg investeringer i USA som ellers kunne funnet sted i Norge, og dermed utfordre norsk dominans i fornybar energi. Hvilken annen mulighet har Norge enn å matche eller overgå slik støtte for å beskytte nasjonale interesser og fremme grønn vekst?\n",
            "Hvis Norge forblir passiv, kan det føre til en svekkelse av landets konkurransedyktighet og fravær av investeringer i fremtiden. Uten tiltak som kan konkurrere med IRA, kan Norge risikere å tape ikke bare på eksportmarkeder, men også i kappløpet om teknologisk ledelse i det grønne skiftet. Dette ville være et tilbakeslag for nasjonal energiomstilling og kan forsinke både Norges og Europas vei mot et lavutslippssamfunn.\n",
            "Vi står nok en gang foran et veiskille, og kanskje bør Norge komme på banen med tiltak som kan konkurrere på et internasjonalt nivå og sikre en robust og bærekraftig fremtid for norsk industri og energisektor.\n",
            "Hvis vi i tillegg kan anerkjenne og akseptere at energitransformasjonen også kommer med en kostnad, og at vi må investere med «lange briller», vil vi kanskje få debatten inn på et mer konstruktivt spor. Et fravær av respons på USAs Inflation Reduction Act vil sette oss i en svært sårbar posisjon.\n",
            "En annen respons bør være en sterkere satsing på innovasjon knyttet til utvikling av klimavennlig teknologi.\n",
            "AS Norge har per i dag for få effektive verktøy for å drive fram innovasjon og teknologi som kan hevde seg i internasjonal målestokk. En massiv satsing på forskning og utvikling, økt tilgang på kompetent risikokapital og utdanning for framtidens behov burde vært hovedtema i en debatt som sårt trenger en omgruppering av fokusområder.\n",
            "Kommentarsystemet er deaktivert\n",
            "Kommentarsystemet leveres av en ekstern leverandør, og kan ikke lastes inn uten at informasjonskapslene er aktivert. Endre dine Personvern/cookies innstillinger for å aktivere kommentering.\n"
          ]
        }
      ]
    },
    {
      "cell_type": "markdown",
      "source": [
        "# **<font color='red'>Text data download : </font>**"
      ],
      "metadata": {
        "id": "_aXrAC8rdIkG"
      }
    },
    {
      "cell_type": "code",
      "source": [
        "if response.status_code == 200:\n",
        "    soup = BeautifulSoup(response.content, 'html.parser')\n",
        "    paragraphs = soup.find_all('p')\n",
        "    article_text = '\\n'.join(paragraph.text for paragraph in paragraphs)\n",
        "\n",
        "    # Save to CSV file\n",
        "    with open('article19.csv', 'w', newline='', encoding='utf-8') as file:\n",
        "        writer = csv.writer(file)\n",
        "        writer.writerow(['URL', 'Content'])\n",
        "        writer.writerow([url, article_text])\n",
        "\n",
        "    # Download file\n",
        "    files.download('article19.csv')\n",
        "else:\n",
        "    print(\"Error retrieving page\")"
      ],
      "metadata": {
        "colab": {
          "base_uri": "https://localhost:8080/",
          "height": 17
        },
        "id": "lt0UMGw2dL81",
        "outputId": "b52992d6-4e67-4e83-a4d4-d6196e8bc4b0"
      },
      "execution_count": null,
      "outputs": [
        {
          "output_type": "display_data",
          "data": {
            "text/plain": [
              "<IPython.core.display.Javascript object>"
            ],
            "application/javascript": [
              "\n",
              "    async function download(id, filename, size) {\n",
              "      if (!google.colab.kernel.accessAllowed) {\n",
              "        return;\n",
              "      }\n",
              "      const div = document.createElement('div');\n",
              "      const label = document.createElement('label');\n",
              "      label.textContent = `Downloading \"${filename}\": `;\n",
              "      div.appendChild(label);\n",
              "      const progress = document.createElement('progress');\n",
              "      progress.max = size;\n",
              "      div.appendChild(progress);\n",
              "      document.body.appendChild(div);\n",
              "\n",
              "      const buffers = [];\n",
              "      let downloaded = 0;\n",
              "\n",
              "      const channel = await google.colab.kernel.comms.open(id);\n",
              "      // Send a message to notify the kernel that we're ready.\n",
              "      channel.send({})\n",
              "\n",
              "      for await (const message of channel.messages) {\n",
              "        // Send a message to notify the kernel that we're ready.\n",
              "        channel.send({})\n",
              "        if (message.buffers) {\n",
              "          for (const buffer of message.buffers) {\n",
              "            buffers.push(buffer);\n",
              "            downloaded += buffer.byteLength;\n",
              "            progress.value = downloaded;\n",
              "          }\n",
              "        }\n",
              "      }\n",
              "      const blob = new Blob(buffers, {type: 'application/binary'});\n",
              "      const a = document.createElement('a');\n",
              "      a.href = window.URL.createObjectURL(blob);\n",
              "      a.download = filename;\n",
              "      div.appendChild(a);\n",
              "      a.click();\n",
              "      div.remove();\n",
              "    }\n",
              "  "
            ]
          },
          "metadata": {}
        },
        {
          "output_type": "display_data",
          "data": {
            "text/plain": [
              "<IPython.core.display.Javascript object>"
            ],
            "application/javascript": [
              "download(\"download_74bb2bdf-82c3-40ea-a1f6-c8821b9c6ccb\", \"articleO19.csv\", 5359)"
            ]
          },
          "metadata": {}
        }
      ]
    }
  ]
}